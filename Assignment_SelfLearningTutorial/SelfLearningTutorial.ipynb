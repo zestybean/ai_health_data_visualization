{
 "cells": [
  {
   "cell_type": "code",
   "execution_count": null,
   "metadata": {},
   "outputs": [],
   "source": [
    "import sqlite3\n",
    "import csv\n",
    "import os\n",
    "import pandas as pd\n",
    "\n",
    "# Set the database path to the root of the project\n",
    "DB_PATH = \"Assignment_MIMIC_SQL/database.db\"\n",
    "\n",
    "def create_or_update_database():\n",
    "    conn = sqlite3.connect(DB_PATH)\n",
    "    cursor = conn.cursor()\n",
    "\n",
    "    try:\n",
    "        # Directory containing CSV files\n",
    "        data_dir = \"Assignment_MIMIC_SQL/data/mimic_data\"\n",
    "        \n",
    "        # List all CSV files in the directory\n",
    "        csv_files = [os.path.join(data_dir, file) for file in os.listdir(data_dir) if file.endswith('.csv')]\n",
    "\n",
    "        for file in csv_files:\n",
    "            # Read CSV file in chunks using pandas\n",
    "            table_name = os.path.splitext(os.path.basename(file))[0]\n",
    "            chunk_size = 10000  # Adjust the chunk size as needed\n",
    "\n",
    "            for chunk in pd.read_csv(file, chunksize=chunk_size):\n",
    "                if chunk.empty:\n",
    "                    continue\n",
    "\n",
    "                # Create table if doesn't exist and insert data\n",
    "                chunk.to_sql(table_name, conn, if_exists='append', index=False)\n",
    "\n",
    "        conn.commit()\n",
    "    except Exception as e:\n",
    "        print(f\"An error occurred: {e}\")\n",
    "    finally:\n",
    "        conn.close()\n",
    "\n",
    "def clear_database():\n",
    "    conn = sqlite3.connect(DB_PATH)\n",
    "    cursor = conn.cursor()\n",
    "\n",
    "    try:\n",
    "        # Get the list of all tables\n",
    "        cursor.execute(\"SELECT name FROM sqlite_master WHERE type='table';\")\n",
    "        tables = cursor.fetchall()\n",
    "\n",
    "        # Drop each table\n",
    "        for table in tables:\n",
    "            cursor.execute(f\"DROP TABLE IF EXISTS {table[0]}\")\n",
    "            print(f\"Dropped table {table[0]}\")\n",
    "\n",
    "        conn.commit()\n",
    "    except Exception as e:\n",
    "        print(f\"An error occurred: {e}\")\n",
    "    finally:\n",
    "        conn.close()\n",
    "\n",
    "\n",
    "if __name__ == \"__main__\":\n",
    "    create_or_update_database()"
   ]
  },
  {
   "cell_type": "code",
   "execution_count": 1,
   "metadata": {},
   "outputs": [
    {
     "name": "stdout",
     "output_type": "stream",
     "text": [
      "ICU Stays:\n",
      "    SUBJECT_ID  HADM_ID  ICUSTAY_ID            ADMITTIME            DEATHTIME  \\\n",
      "0         268   110404      280836  2198-02-11 13:40:00  2198-02-18 03:55:00   \n",
      "1         269   106296      206613  2170-11-05 11:04:00                 None   \n",
      "2         270   188028      220345  2128-06-23 18:26:00                 None   \n",
      "3         271   173727      249196  2120-08-07 18:56:00                 None   \n",
      "4         272   164716      210407  2186-12-25 21:06:00                 None   \n",
      "\n",
      "   MORTALITY  \n",
      "0          1  \n",
      "1          0  \n",
      "2          0  \n",
      "3          0  \n",
      "4          0  \n",
      "Vitals:\n",
      "    SUBJECT_ID  HADM_ID  ICUSTAY_ID  ITEMID            CHARTTIME  VALUE\n",
      "0          36   165660    241249.0  220045  2134-05-12 13:00:00   86.0\n",
      "1          36   165660    241249.0  220179  2134-05-12 13:00:00  137.0\n",
      "2          36   165660    241249.0  220180  2134-05-12 13:00:00   72.0\n",
      "3          36   165660    241249.0  220210  2134-05-12 13:00:00   21.0\n",
      "4          36   165660    241249.0  220277  2134-05-12 13:00:00   93.0\n",
      "Labs:\n",
      "    SUBJECT_ID  HADM_ID  ITEMID            CHARTTIME VALUE\n",
      "0           3      NaN   50912  2101-10-13 03:00:00   1.7\n",
      "1           3      NaN   50912  2101-10-13 15:47:00   1.5\n",
      "2           3      NaN   50912  2101-10-14 03:00:00   1.4\n",
      "3           3      NaN   50912  2101-10-15 03:30:00   1.6\n",
      "4           3      NaN   50912  2101-10-15 12:15:00   1.5\n"
     ]
    }
   ],
   "source": [
    "import pandas as pd\n",
    "import numpy as np\n",
    "import tensorflow as tf\n",
    "import sklearn\n",
    "import sqlite3\n",
    "\n",
    "# Connect to the SQLite database\n",
    "conn = sqlite3.connect('../Assignment_MIMIC_SQL/database.db')\n",
    "\n",
    "# Fetch ICU stays and mortality labels\n",
    "query_icu = \"\"\"\n",
    "SELECT icu.SUBJECT_ID, icu.HADM_ID, icu.ICUSTAY_ID, \n",
    "       adm.ADMITTIME, adm.DEATHTIME, \n",
    "       CASE \n",
    "           WHEN adm.DEATHTIME IS NOT NULL AND adm.DEATHTIME <= icu.OUTTIME THEN 1 \n",
    "           ELSE 0 \n",
    "       END AS MORTALITY\n",
    "FROM ICUSTAYS icu\n",
    "JOIN ADMISSIONS adm ON icu.HADM_ID = adm.HADM_ID;\n",
    "\"\"\"\n",
    "icu_stays = pd.read_sql(query_icu, conn)\n",
    "\n",
    "# Fetch vital signs\n",
    "query_vitals = \"\"\"\n",
    "SELECT ce.SUBJECT_ID, ce.HADM_ID, ce.ICUSTAY_ID, \n",
    "       ce.ITEMID, ce.CHARTTIME, ce.VALUE\n",
    "FROM CHARTEVENTS ce\n",
    "WHERE ce.ITEMID IN (211, 220045, 220179, 220180, 220210, 220277, 223761)\n",
    "AND ce.VALUE IS NOT NULL;\n",
    "\"\"\"\n",
    "vitals = pd.read_sql(query_vitals, conn)\n",
    "\n",
    "# Fetch lab test results\n",
    "query_labs = \"\"\"\n",
    "SELECT le.SUBJECT_ID, le.HADM_ID, \n",
    "       le.ITEMID, le.CHARTTIME, le.VALUE\n",
    "FROM LABEVENTS le\n",
    "WHERE le.ITEMID IN (50809, 50912, 51300)\n",
    "AND le.VALUE IS NOT NULL;\n",
    "\"\"\"\n",
    "labs = pd.read_sql(query_labs, conn)\n",
    "\n",
    "# Close the connection\n",
    "conn.close()\n",
    "\n",
    "# Display sample data\n",
    "print(\"ICU Stays:\\n\", icu_stays.head())\n",
    "print(\"Vitals:\\n\", vitals.head())\n",
    "print(\"Labs:\\n\", labs.head())\n",
    "\n"
   ]
  },
  {
   "cell_type": "code",
   "execution_count": null,
   "metadata": {},
   "outputs": [],
   "source": [
    "# 1. Convert Timestamps to datetime Format\n",
    "# This ensures we can sort and resample data correctly.\n",
    "icu_stays[\"ADMITTIME\"] = pd.to_datetime(icu_stays[\"ADMITTIME\"])\n",
    "icu_stays[\"DEATHTIME\"] = pd.to_datetime(icu_stays[\"DEATHTIME\"])\n",
    "\n",
    "vitals[\"CHARTTIME\"] = pd.to_datetime(vitals[\"CHARTTIME\"])\n",
    "labs[\"CHARTTIME\"] = pd.to_datetime(labs[\"CHARTTIME\"])\n"
   ]
  },
  {
   "cell_type": "code",
   "execution_count": null,
   "metadata": {},
   "outputs": [],
   "source": [
    "# 2. Map ITEMID to Readable Feature Names\n",
    "# Since ITEMID numbers aren't human-readable, we map them to their respective vitals/labs.\n",
    "vital_signs_mapping = {\n",
    "    211: \"HEART_RATE\",\n",
    "    220045: \"MEAN_BP\",\n",
    "    220179: \"SYSTOLIC_BP\",\n",
    "    220180: \"DIASTOLIC_BP\",\n",
    "    220210: \"RESP_RATE\",\n",
    "    220277: \"SPO2\",\n",
    "    223761: \"TEMPERATURE\"\n",
    "}\n",
    "\n",
    "lab_tests_mapping = {\n",
    "    50809: \"GLUCOSE\",\n",
    "    50912: \"CREATININE\",\n",
    "    51300: \"WBC_COUNT\"\n",
    "}\n",
    "\n",
    "# Replace ITEMID with actual feature names\n",
    "vitals[\"ITEMID\"] = vitals[\"ITEMID\"].map(vital_signs_mapping)\n",
    "labs[\"ITEMID\"] = labs[\"ITEMID\"].map(lab_tests_mapping)\n"
   ]
  },
  {
   "cell_type": "code",
   "execution_count": 6,
   "metadata": {},
   "outputs": [],
   "source": [
    "# Pivot the tables so each ITEMID becomes a column\n",
    "labs[\"VALUE\"] = pd.to_numeric(labs[\"VALUE\"], errors=\"coerce\")\n",
    "vitals[\"VALUE\"] = pd.to_numeric(vitals[\"VALUE\"], errors=\"coerce\")\n",
    "\n"
   ]
  },
  {
   "cell_type": "code",
   "execution_count": null,
   "metadata": {},
   "outputs": [],
   "source": [
    "# Pivot the tables so each ITEMID becomes a column\n",
    "vitals_pivot = vitals.pivot_table(index=[\"SUBJECT_ID\", \"HADM_ID\", \"CHARTTIME\"], \n",
    "                                  columns=\"ITEMID\", values=\"VALUE\").reset_index()\n",
    "\n",
    "# Pivot the tables so each ITEMID becomes a column\n",
    "labs_pivot = labs.pivot_table(index=[\"SUBJECT_ID\", \"HADM_ID\", \"CHARTTIME\"], \n",
    "                              columns=\"ITEMID\", values=\"VALUE\").reset_index()\n"
   ]
  },
  {
   "cell_type": "code",
   "execution_count": 10,
   "metadata": {},
   "outputs": [],
   "source": [
    "# Merge vitals and labs\n",
    "merged_data = vitals_pivot.merge(labs_pivot, on=[\"SUBJECT_ID\", \"HADM_ID\", \"CHARTTIME\"], how=\"outer\")\n",
    "\n",
    "# Merge with ICU stay data (Mortality Label)\n",
    "final_data = merged_data.merge(icu_stays[[\"SUBJECT_ID\", \"HADM_ID\", \"ICUSTAY_ID\", \"MORTALITY\"]], \n",
    "                               on=[\"SUBJECT_ID\", \"HADM_ID\"], how=\"inner\")\n",
    "\n",
    "# Sort by time\n",
    "final_data = final_data.sort_values(by=[\"SUBJECT_ID\", \"CHARTTIME\"])\n"
   ]
  },
  {
   "cell_type": "code",
   "execution_count": 11,
   "metadata": {},
   "outputs": [],
   "source": [
    "# Fill missing values forward and backward for vitals\n",
    "final_data.fillna(method=\"ffill\", inplace=True)\n",
    "final_data.fillna(method=\"bfill\", inplace=True)\n",
    "\n",
    "# Impute remaining missing values with median\n",
    "final_data.fillna(final_data.median(), inplace=True)\n"
   ]
  },
  {
   "cell_type": "code",
   "execution_count": 12,
   "metadata": {},
   "outputs": [],
   "source": [
    "from sklearn.preprocessing import StandardScaler\n",
    "\n",
    "# Select numeric columns (excluding SUBJECT_ID, HADM_ID, CHARTTIME)\n",
    "feature_cols = [col for col in final_data.columns if col not in [\"SUBJECT_ID\", \"HADM_ID\", \"CHARTTIME\", \"ICUSTAY_ID\", \"MORTALITY\"]]\n",
    "\n",
    "# Scale features\n",
    "scaler = StandardScaler()\n",
    "final_data[feature_cols] = scaler.fit_transform(final_data[feature_cols])\n"
   ]
  },
  {
   "cell_type": "code",
   "execution_count": null,
   "metadata": {},
   "outputs": [
    {
     "name": "stdout",
     "output_type": "stream",
     "text": [
      "Final Shape: (7413697, 24, 10) (1853425, 24, 10) (7413697,) (1853425,)\n",
      "Dataset saved successfully!\n"
     ]
    }
   ],
   "source": [
    "import numpy as np\n",
    "from sklearn.model_selection import train_test_split\n",
    "\n",
    "# Convert Data to LSTM/GRU Format\n",
    "window_size = 24  \n",
    "\n",
    "def create_sequences(df, window_size):\n",
    "    sequences, labels = [], []\n",
    "    for patient_id in df[\"ICUSTAY_ID\"].unique():\n",
    "        patient_data = df[df[\"ICUSTAY_ID\"] == patient_id].sort_values(\"CHARTTIME\")\n",
    "        for i in range(len(patient_data) - window_size):\n",
    "            seq = patient_data.iloc[i : i + window_size][feature_cols].values\n",
    "            label = patient_data.iloc[i + window_size][\"MORTALITY\"]  # Binary outcome\n",
    "            sequences.append(seq)\n",
    "            labels.append(label)\n",
    "    return np.array(sequences), np.array(labels)\n",
    "\n",
    "# Convert to sequences\n",
    "X, y = create_sequences(final_data, window_size)\n",
    "\n",
    "# Split into training/testing sets\n",
    "X_train, X_test, y_train, y_test = train_test_split(X, y, test_size=0.2, random_state=42)\n",
    "\n",
    "# Save the datasets as .npy files\n",
    "np.save(\"X_train.npy\", X_train)\n",
    "np.save(\"y_train.npy\", y_train)\n",
    "np.save(\"X_test.npy\", X_test)\n",
    "np.save(\"y_test.npy\", y_test)\n",
    "\n",
    "print(\"Final Shape:\", X_train.shape, X_test.shape, y_train.shape, y_test.shape)\n",
    "print(\"Dataset saved successfully!\")"
   ]
  },
  {
   "cell_type": "code",
   "execution_count": 3,
   "metadata": {},
   "outputs": [
    {
     "ename": "NameError",
     "evalue": "name 'X_train' is not defined",
     "output_type": "error",
     "traceback": [
      "\u001b[0;31m---------------------------------------------------------------------------\u001b[0m",
      "\u001b[0;31mNameError\u001b[0m                                 Traceback (most recent call last)",
      "Cell \u001b[0;32mIn[3], line 25\u001b[0m\n\u001b[1;32m     22\u001b[0m     \u001b[38;5;28;01mreturn\u001b[39;00m model\n\u001b[1;32m     24\u001b[0m \u001b[38;5;66;03m# Example usage (assuming X_train is preprocessed and shaped correctly)\u001b[39;00m\n\u001b[0;32m---> 25\u001b[0m model \u001b[38;5;241m=\u001b[39m build_lstm_model(input_shape\u001b[38;5;241m=\u001b[39m(\u001b[43mX_train\u001b[49m\u001b[38;5;241m.\u001b[39mshape[\u001b[38;5;241m1\u001b[39m], X_train\u001b[38;5;241m.\u001b[39mshape[\u001b[38;5;241m2\u001b[39m]))\n\u001b[1;32m     26\u001b[0m model\u001b[38;5;241m.\u001b[39msummary()\n",
      "\u001b[0;31mNameError\u001b[0m: name 'X_train' is not defined"
     ]
    }
   ],
   "source": [
    "import tensorflow as tf\n",
    "from tensorflow.keras.models import Sequential\n",
    "from tensorflow.keras.layers import LSTM, Dense, Dropout\n",
    "\n",
    "# Define the LSTM model\n",
    "def build_lstm_model(input_shape):\n",
    "    model = Sequential([\n",
    "        LSTM(128, return_sequences=True, input_shape=input_shape),\n",
    "        Dropout(0.2),\n",
    "        LSTM(64, return_sequences=False),\n",
    "        Dropout(0.2),\n",
    "        Dense(32, activation='relu'),\n",
    "        Dense(1, activation='sigmoid')  # Binary classification\n",
    "    ])\n",
    "    \n",
    "    model.compile(\n",
    "        loss='binary_crossentropy',\n",
    "        optimizer='adam',\n",
    "        metrics=['accuracy']\n",
    "    )\n",
    "    \n",
    "    return model\n",
    "\n",
    "# Example usage (assuming X_train is preprocessed and shaped correctly)\n",
    "model = build_lstm_model(input_shape=(X_train.shape[1], X_train.shape[2]))\n",
    "model.summary()"
   ]
  },
  {
   "cell_type": "code",
   "execution_count": 6,
   "metadata": {},
   "outputs": [
    {
     "name": "stdout",
     "output_type": "stream",
     "text": [
      "Epoch 1/2\n"
     ]
    },
    {
     "name": "stderr",
     "output_type": "stream",
     "text": [
      "2025-03-15 15:17:16.975829: I tensorflow/core/grappler/optimizers/custom_graph_optimizer_registry.cc:114] Plugin optimizer for device_type GPU is enabled.\n",
      "2025-03-15 15:17:17.238728: I tensorflow/core/grappler/optimizers/custom_graph_optimizer_registry.cc:114] Plugin optimizer for device_type GPU is enabled.\n",
      "2025-03-15 15:17:17.307381: I tensorflow/core/grappler/optimizers/custom_graph_optimizer_registry.cc:114] Plugin optimizer for device_type GPU is enabled.\n"
     ]
    },
    {
     "name": "stdout",
     "output_type": "stream",
     "text": [
      "     1/231679 [..............................] - ETA: 92:06:33 - loss: 0.7022 - accuracy: 0.5312"
     ]
    },
    {
     "name": "stderr",
     "output_type": "stream",
     "text": [
      "2025-03-15 15:17:17.443259: I tensorflow/core/grappler/optimizers/custom_graph_optimizer_registry.cc:114] Plugin optimizer for device_type GPU is enabled.\n",
      "2025-03-15 15:17:17.530265: I tensorflow/core/grappler/optimizers/custom_graph_optimizer_registry.cc:114] Plugin optimizer for device_type GPU is enabled.\n"
     ]
    },
    {
     "name": "stdout",
     "output_type": "stream",
     "text": [
      "231679/231679 [==============================] - ETA: 0s - loss: 0.2806 - accuracy: 0.8991"
     ]
    },
    {
     "name": "stderr",
     "output_type": "stream",
     "text": [
      "2025-03-15 15:58:38.158862: I tensorflow/core/grappler/optimizers/custom_graph_optimizer_registry.cc:114] Plugin optimizer for device_type GPU is enabled.\n",
      "2025-03-15 15:58:38.273451: I tensorflow/core/grappler/optimizers/custom_graph_optimizer_registry.cc:114] Plugin optimizer for device_type GPU is enabled.\n",
      "2025-03-15 15:58:38.312400: I tensorflow/core/grappler/optimizers/custom_graph_optimizer_registry.cc:114] Plugin optimizer for device_type GPU is enabled.\n"
     ]
    },
    {
     "name": "stdout",
     "output_type": "stream",
     "text": [
      "231679/231679 [==============================] - 2717s 12ms/step - loss: 0.2806 - accuracy: 0.8991 - val_loss: 0.2508 - val_accuracy: 0.9062\n",
      "Epoch 2/2\n",
      "    11/231679 [..............................] - ETA: 45:46 - loss: 0.2434 - accuracy: 0.9176 "
     ]
    },
    {
     "name": "stderr",
     "output_type": "stream",
     "text": [
      "/opt/homebrew/Caskroom/miniconda/base/envs/ai_health/lib/python3.8/site-packages/keras/src/engine/training.py:3000: UserWarning: You are saving your model as an HDF5 file via `model.save()`. This file format is considered legacy. We recommend using instead the native Keras format, e.g. `model.save('my_model.keras')`.\n",
      "  saving_api.save_model(\n"
     ]
    },
    {
     "name": "stdout",
     "output_type": "stream",
     "text": [
      "231679/231679 [==============================] - 2755s 12ms/step - loss: 0.2348 - accuracy: 0.9106 - val_loss: 0.2217 - val_accuracy: 0.9146\n"
     ]
    }
   ],
   "source": [
    "import numpy as np\n",
    "import tensorflow as tf\n",
    "from tensorflow.keras.models import Sequential\n",
    "from tensorflow.keras.layers import LSTM, Dense, Dropout\n",
    "from tensorflow.keras.callbacks import EarlyStopping, ModelCheckpoint\n",
    "\n",
    "# Load your preprocessed dataset\n",
    "X_train = np.load(\"X_train.npy\")\n",
    "y_train = np.load(\"y_train.npy\")\n",
    "X_val = np.load(\"X_test.npy\") \n",
    "y_val = np.load(\"y_test.npy\")\n",
    "\n",
    "\n",
    "# Define the LSTM model\n",
    "model = Sequential([\n",
    "    LSTM(128, return_sequences=True, input_shape=(X_train.shape[1], X_train.shape[2])),\n",
    "    Dropout(0.3),\n",
    "    LSTM(64),\n",
    "    Dropout(0.3),\n",
    "    Dense(1, activation='sigmoid')\n",
    "])\n",
    "\n",
    "# Compile the model\n",
    "model.compile(optimizer='adam', loss='binary_crossentropy', metrics=['accuracy'])\n",
    "\n",
    "# Define callbacks\n",
    "early_stopping = EarlyStopping(monitor='val_loss', patience=5, restore_best_weights=True)\n",
    "model_checkpoint = ModelCheckpoint('best_lstm_model.h5', save_best_only=True)\n",
    "\n",
    "# Train the model\n",
    "history = model.fit(\n",
    "    X_train, y_train,\n",
    "    validation_data=(X_val, y_val),\n",
    "    epochs=2,\n",
    "    batch_size=32,\n",
    "    callbacks=[early_stopping, model_checkpoint]\n",
    ")\n",
    "\n",
    "# Save final model\n",
    "model.save(\"final_lstm_model.h5\")\n"
   ]
  },
  {
   "cell_type": "code",
   "execution_count": 7,
   "metadata": {},
   "outputs": [
    {
     "data": {
      "image/png": "[encoded data removed]",
      "text/plain": [
       "<Figure size 1200x500 with 2 Axes>"
      ]
     },
     "metadata": {},
     "output_type": "display_data"
    }
   ],
   "source": [
    "import matplotlib.pyplot as plt\n",
    "\n",
    "# Extract history data\n",
    "history_dict = history.history\n",
    "\n",
    "# Plot Loss\n",
    "plt.figure(figsize=(12, 5))\n",
    "plt.subplot(1, 2, 1)\n",
    "plt.plot(history_dict['loss'], label='Training Loss')\n",
    "plt.plot(history_dict['val_loss'], label='Validation Loss')\n",
    "plt.xlabel('Epochs')\n",
    "plt.ylabel('Loss')\n",
    "plt.legend()\n",
    "plt.title('Training vs Validation Loss')\n",
    "\n",
    "# Plot Accuracy\n",
    "plt.subplot(1, 2, 2)\n",
    "plt.plot(history_dict['accuracy'], label='Training Accuracy')\n",
    "plt.plot(history_dict['val_accuracy'], label='Validation Accuracy')\n",
    "plt.xlabel('Epochs')\n",
    "plt.ylabel('Accuracy')\n",
    "plt.legend()\n",
    "plt.title('Training vs Validation Accuracy')\n",
    "\n",
    "plt.show()\n"
   ]
  },
  {
   "cell_type": "code",
   "execution_count": 8,
   "metadata": {},
   "outputs": [
    {
     "name": "stderr",
     "output_type": "stream",
     "text": [
      "2025-03-15 16:53:34.410276: I tensorflow/core/grappler/optimizers/custom_graph_optimizer_registry.cc:114] Plugin optimizer for device_type GPU is enabled.\n",
      "2025-03-15 16:53:34.518800: I tensorflow/core/grappler/optimizers/custom_graph_optimizer_registry.cc:114] Plugin optimizer for device_type GPU is enabled.\n",
      "2025-03-15 16:53:34.571520: I tensorflow/core/grappler/optimizers/custom_graph_optimizer_registry.cc:114] Plugin optimizer for device_type GPU is enabled.\n"
     ]
    },
    {
     "name": "stdout",
     "output_type": "stream",
     "text": [
      "57920/57920 [==============================] - 269s 5ms/step - loss: 0.2217 - accuracy: 0.9146\n",
      "Test Loss: 0.2217\n",
      "Test Accuracy: 0.9146\n"
     ]
    }
   ],
   "source": [
    "import numpy as np\n",
    "import tensorflow as tf\n",
    "\n",
    "# Load test data\n",
    "X_test = np.load(\"X_test.npy\")\n",
    "y_test = np.load(\"y_test.npy\")\n",
    "\n",
    "# Load the best saved model\n",
    "model = tf.keras.models.load_model(\"best_lstm_model.h5\")\n",
    "\n",
    "# Evaluate the model on the test set\n",
    "test_loss, test_accuracy = model.evaluate(X_test, y_test)\n",
    "\n",
    "print(f\"Test Loss: {test_loss:.4f}\")\n",
    "print(f\"Test Accuracy: {test_accuracy:.4f}\")"
   ]
  },
  {
   "cell_type": "code",
   "execution_count": 9,
   "metadata": {},
   "outputs": [
    {
     "name": "stdout",
     "output_type": "stream",
     "text": [
      "    1/57920 [..............................] - ETA: 6:13:13 - loss: 0.2704 - accuracy: 0.9062"
     ]
    },
    {
     "name": "stderr",
     "output_type": "stream",
     "text": [
      "2025-03-15 16:58:08.796805: I tensorflow/core/grappler/optimizers/custom_graph_optimizer_registry.cc:114] Plugin optimizer for device_type GPU is enabled.\n",
      "2025-03-15 16:58:08.889784: I tensorflow/core/grappler/optimizers/custom_graph_optimizer_registry.cc:114] Plugin optimizer for device_type GPU is enabled.\n",
      "2025-03-15 16:58:08.928606: I tensorflow/core/grappler/optimizers/custom_graph_optimizer_registry.cc:114] Plugin optimizer for device_type GPU is enabled.\n"
     ]
    },
    {
     "name": "stdout",
     "output_type": "stream",
     "text": [
      "57920/57920 [==============================] - 270s 5ms/step - loss: 0.2217 - accuracy: 0.9146\n",
      "Test Loss: 0.2217\n",
      "Test Accuracy: 0.9146\n"
     ]
    }
   ],
   "source": [
    "import numpy as np\n",
    "import tensorflow as tf\n",
    "\n",
    "# Load test data\n",
    "X_test = np.load(\"X_test.npy\")\n",
    "y_test = np.load(\"y_test.npy\")\n",
    "\n",
    "# Load the best saved model\n",
    "model = tf.keras.models.load_model(\"final_lstm_model.h5\")\n",
    "\n",
    "# Evaluate the model on the test set\n",
    "test_loss, test_accuracy = model.evaluate(X_test, y_test)\n",
    "\n",
    "print(f\"Test Loss: {test_loss:.4f}\")\n",
    "print(f\"Test Accuracy: {test_accuracy:.4f}\")"
   ]
  }
 ],
 "metadata": {
  "kernelspec": {
   "display_name": "ai_health",
   "language": "python",
   "name": "python3"
  },
  "language_info": {
   "codemirror_mode": {
    "name": "ipython",
    "version": 3
   },
   "file_extension": ".py",
   "mimetype": "text/x-python",
   "name": "python",
   "nbconvert_exporter": "python",
   "pygments_lexer": "ipython3",
   "version": "3.8.18"
  }
 },
 "nbformat": 4,
 "nbformat_minor": 2
}
